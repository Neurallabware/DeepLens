{
    "cells": [
     {
      "cell_type": "markdown",
      "metadata": {},
      "source": [
       "# End-to-End Optical Design with 5 Lines of Code\n",
       "\n",
       "This notebook demonstrates end-to-end optimization of optical systems using DeepLens. The process involves only 5 key lines of code for the core optimization loop.\n",
       "\n",
       "Reference Paper:\n",
       "Xinge Yang, Qiang Fu and Wolfgang Heidrich, \"Curriculum learning for ab initio deep learned refractive optics,\" Nature Communications 2024."
      ]
     },
     {
      "cell_type": "code",
      "execution_count": null,
      "metadata": {},
      "source": [
       "# Import required libraries\n",
       "import logging\n",
       "import os\n",
       "import random\n",
       "import string\n",
       "from datetime import datetime\n",
       "\n",
       "import cv2 as cv\n",
       "import numpy as np\n",
       "import torch\n",
       "import torch.nn as nn\n",
       "import wandb\n",
       "import yaml\n",
       "from torch.utils.data import DataLoader\n",
       "from torchvision.utils import save_image, make_grid\n",
       "from tqdm.notebook import tqdm\n",
       "import matplotlib.pyplot as plt\n",
       "\n",
       "from deeplens import GeoLens\n",
       "from deeplens.network import UNet, NAFNet\n",
       "from deeplens.network.dataset import ImageDataset\n",
       "from deeplens.utils import (\n",
       "    batch_PSNR,\n",
       "    batch_SSIM,\n",
       "    denormalize_ImageNet,\n",
       "    normalize_ImageNet,\n",
       "    set_logger,\n",
       "    set_seed,\n",
       ")\n",
       "\n",
       "# Set plotting style\n",
       "plt.style.use('seaborn')\n",
       "%matplotlib inline\n",
       "\n",
       "# Check if CUDA is available\n",
       "device = torch.device(\"cuda\" if torch.cuda.is_available() else \"cpu\")\n",
       "print(f\"Using device: {device}\")\n",
       "if torch.cuda.is_available():\n",
       "    print(f\"GPU: {torch.cuda.get_device_name(0)}\")"
      ]
     },
     {
      "cell_type": "markdown",
      "metadata": {},
      "source": [
       "## Configuration\n",
       "\n",
       "Let's set up the experiment configuration for end-to-end optimization:"
      ]
     },
     {
      "cell_type": "code",
      "execution_count": null,
      "metadata": {},
      "source": [
       "def config():\n",
       "    # Load config\n",
       "    with open(\"configs/1_end2end_5lines.yml\") as f:\n",
       "        args = yaml.load(f, Loader=yaml.FullLoader)\n",
       "\n",
       "    # Create result directory\n",
       "    characters = string.ascii_letters + string.digits\n",
       "    random_string = \"\".join(random.choice(characters) for i in range(4))\n",
       "    current_time = datetime.now().strftime(\"%m%d-%H%M%S\")\n",
       "    exp_name = current_time + \"-End2End-5-lines-\" + random_string\n",
       "    result_dir = f\"./results/{exp_name}\"\n",
       "    os.makedirs(result_dir, exist_ok=True)\n",
       "    args[\"result_dir\"] = result_dir\n",
       "\n",
       "    # Set random seed\n",
       "    if args[\"seed\"] is None:\n",
       "        seed = random.randint(0, 100)\n",
       "        args[\"seed\"] = seed\n",
       "    set_seed(args[\"seed\"])\n",
       "\n",
       "    # Log\n",
       "    set_logger(result_dir)\n",
       "    logging.info(f'EXP: {args[\"EXP_NAME\"]}')\n",
       "    \n",
       "    # Device info\n",
       "    num_gpus = torch.cuda.device_count()\n",
       "    args[\"num_gpus\"] = num_gpus\n",
       "    args[\"device\"] = device\n",
       "    logging.info(f\"Using {num_gpus} GPU(s)\")\n",
       "\n",
       "    # Save config\n",
       "    with open(f\"{result_dir}/config.yml\", \"w\") as f:\n",
       "        yaml.dump(args, f)\n",
       "        \n",
       "    return args\n",
       "\n",
       "# Load configuration\n",
       "args = config()\n",
       "print(f\"Result directory: {args['result_dir']}\")\n",
       "print(f\"Random seed: {args['seed']}\")"
      ]
     },
     {
      "cell_type": "markdown",
      "metadata": {},
      "source": [
       "## Line 1: Load the Lens\n",
       "\n",
       "First, we load our initial lens design and set up the neural network:"
      ]
     },
     {
      "cell_type": "code",
      "execution_count": null,
      "metadata": {},
      "source": [
       "# ========================================\n",
       "# Line 1: load a lens\n",
       "# ========================================\n",
       "lens = GeoLens(filename=args[\"lens\"][\"path\"])\n",
       "lens.change_sensor_res(args[\"train\"][\"img_res\"])\n",
       "\n",
       "# Initialize the neural network\n",
       "net = NAFNet(\n",
       "    in_chan=3, \n",
       "    out_chan=3, \n",
       "    width=16, \n",
       "    middle_blk_num=1, \n",
       "    enc_blk_nums=[1, 1, 1, 18], \n",
       "    dec_blk_nums=[1, 1, 1, 1]\n",
       ")\n",
       "net = net.to(lens.device)\n",
       "\n",
       "# Load pretrained weights if specified\n",
       "if args[\"network\"][\"pretrained\"]:\n",
       "    net.load_state_dict(torch.load(args[\"network\"][\"pretrained\"]))\n",
       "\n",
       "# Print lens information\n",
       "print(f\"Lens focal length: {lens.foclen:.2f} mm\")\n",
       "print(f\"Lens f-number: f/{lens.fnum:.2f}\")\n",
       "print(f\"Lens field of view: {lens.hfov*2*57.3:.2f} degrees\")\n",
       "print(f\"Sensor size: {lens.sensor_size[0]:.2f} x {lens.sensor_size[1]:.2f} mm\")"
      ]
     }
    ],
    "metadata": {
     "kernelspec": {
      "display_name": "Python 3",
      "language": "python",
      "name": "python3"
     },
     "language_info": {
      "codemirror_mode": {
       "name": "ipython",
       "version": 3
      },
      "file_extension": ".py",
      "mimetype": "text/x-python",
      "name": "python",
      "nbconvert_exporter": "python",
      "pygments_lexer": "ipython3",
      "version": "3.8.0"
     }
    },
    "nbformat": 4,
    "nbformat_minor": 4
   }